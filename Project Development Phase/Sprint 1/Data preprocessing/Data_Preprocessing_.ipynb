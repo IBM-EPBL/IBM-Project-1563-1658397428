{
  "nbformat": 4,
  "nbformat_minor": 0,
  "metadata": {
    "colab": {
      "provenance": [],
      "collapsed_sections": []
    },
    "kernelspec": {
      "name": "python3",
      "display_name": "Python 3"
    },
    "language_info": {
      "name": "python"
    }
  },
  "cells": [
    {
      "cell_type": "markdown",
      "source": [
        "#Import Libraries"
      ],
      "metadata": {
        "id": "97k2a8XnvzQE"
      }
    },
    {
      "cell_type": "code",
      "source": [
        "import pandas as pd\n",
        "import numpy as np"
      ],
      "metadata": {
        "id": "NQBlIgWlv9UO"
      },
      "execution_count": 1,
      "outputs": []
    },
    {
      "cell_type": "markdown",
      "source": [
        "#Read the dataset"
      ],
      "metadata": {
        "id": "eYWe3vW0wMOT"
      }
    },
    {
      "cell_type": "code",
      "source": [
        "df = pd.read_csv(\"car data.csv\")"
      ],
      "metadata": {
        "id": "CETblb9swO5h"
      },
      "execution_count": 2,
      "outputs": []
    },
    {
      "cell_type": "code",
      "source": [
        "df.sample(5)\n"
      ],
      "metadata": {
        "colab": {
          "base_uri": "https://localhost:8080/",
          "height": 250
        },
        "id": "3GSgpttfx-9q",
        "outputId": "f579972b-6a05-413f-ec6e-d0ca10863983"
      },
      "execution_count": 4,
      "outputs": [
        {
          "output_type": "execute_result",
          "data": {
            "text/plain": [
              "                      Car_Name  Year  Selling_Price  Present_Price  \\\n",
              "260                       city  2016           9.15          13.60   \n",
              "103          Bajaj Dominar 400  2017           1.45           1.60   \n",
              "116  Royal Enfield Classic 350  2013           1.10           1.47   \n",
              "167         TVS Apache RTR 160  2014           0.42           0.81   \n",
              "14                       dzire  2009           2.25           7.21   \n",
              "\n",
              "     Kms_Driven Fuel_Type Seller_Type Transmission  Owner  \n",
              "260       29223    Petrol      Dealer       Manual      0  \n",
              "103        1200    Petrol  Individual       Manual      0  \n",
              "116       33000    Petrol  Individual       Manual      0  \n",
              "167       42000    Petrol  Individual       Manual      0  \n",
              "14        77427    Petrol      Dealer       Manual      0  "
            ],
            "text/html": [
              "\n",
              "  <div id=\"df-878f7ce3-1d03-49b8-a899-7b9fa4907646\">\n",
              "    <div class=\"colab-df-container\">\n",
              "      <div>\n",
              "<style scoped>\n",
              "    .dataframe tbody tr th:only-of-type {\n",
              "        vertical-align: middle;\n",
              "    }\n",
              "\n",
              "    .dataframe tbody tr th {\n",
              "        vertical-align: top;\n",
              "    }\n",
              "\n",
              "    .dataframe thead th {\n",
              "        text-align: right;\n",
              "    }\n",
              "</style>\n",
              "<table border=\"1\" class=\"dataframe\">\n",
              "  <thead>\n",
              "    <tr style=\"text-align: right;\">\n",
              "      <th></th>\n",
              "      <th>Car_Name</th>\n",
              "      <th>Year</th>\n",
              "      <th>Selling_Price</th>\n",
              "      <th>Present_Price</th>\n",
              "      <th>Kms_Driven</th>\n",
              "      <th>Fuel_Type</th>\n",
              "      <th>Seller_Type</th>\n",
              "      <th>Transmission</th>\n",
              "      <th>Owner</th>\n",
              "    </tr>\n",
              "  </thead>\n",
              "  <tbody>\n",
              "    <tr>\n",
              "      <th>260</th>\n",
              "      <td>city</td>\n",
              "      <td>2016</td>\n",
              "      <td>9.15</td>\n",
              "      <td>13.60</td>\n",
              "      <td>29223</td>\n",
              "      <td>Petrol</td>\n",
              "      <td>Dealer</td>\n",
              "      <td>Manual</td>\n",
              "      <td>0</td>\n",
              "    </tr>\n",
              "    <tr>\n",
              "      <th>103</th>\n",
              "      <td>Bajaj Dominar 400</td>\n",
              "      <td>2017</td>\n",
              "      <td>1.45</td>\n",
              "      <td>1.60</td>\n",
              "      <td>1200</td>\n",
              "      <td>Petrol</td>\n",
              "      <td>Individual</td>\n",
              "      <td>Manual</td>\n",
              "      <td>0</td>\n",
              "    </tr>\n",
              "    <tr>\n",
              "      <th>116</th>\n",
              "      <td>Royal Enfield Classic 350</td>\n",
              "      <td>2013</td>\n",
              "      <td>1.10</td>\n",
              "      <td>1.47</td>\n",
              "      <td>33000</td>\n",
              "      <td>Petrol</td>\n",
              "      <td>Individual</td>\n",
              "      <td>Manual</td>\n",
              "      <td>0</td>\n",
              "    </tr>\n",
              "    <tr>\n",
              "      <th>167</th>\n",
              "      <td>TVS Apache RTR 160</td>\n",
              "      <td>2014</td>\n",
              "      <td>0.42</td>\n",
              "      <td>0.81</td>\n",
              "      <td>42000</td>\n",
              "      <td>Petrol</td>\n",
              "      <td>Individual</td>\n",
              "      <td>Manual</td>\n",
              "      <td>0</td>\n",
              "    </tr>\n",
              "    <tr>\n",
              "      <th>14</th>\n",
              "      <td>dzire</td>\n",
              "      <td>2009</td>\n",
              "      <td>2.25</td>\n",
              "      <td>7.21</td>\n",
              "      <td>77427</td>\n",
              "      <td>Petrol</td>\n",
              "      <td>Dealer</td>\n",
              "      <td>Manual</td>\n",
              "      <td>0</td>\n",
              "    </tr>\n",
              "  </tbody>\n",
              "</table>\n",
              "</div>\n",
              "      <button class=\"colab-df-convert\" onclick=\"convertToInteractive('df-878f7ce3-1d03-49b8-a899-7b9fa4907646')\"\n",
              "              title=\"Convert this dataframe to an interactive table.\"\n",
              "              style=\"display:none;\">\n",
              "        \n",
              "  <svg xmlns=\"http://www.w3.org/2000/svg\" height=\"24px\"viewBox=\"0 0 24 24\"\n",
              "       width=\"24px\">\n",
              "    <path d=\"M0 0h24v24H0V0z\" fill=\"none\"/>\n",
              "    <path d=\"M18.56 5.44l.94 2.06.94-2.06 2.06-.94-2.06-.94-.94-2.06-.94 2.06-2.06.94zm-11 1L8.5 8.5l.94-2.06 2.06-.94-2.06-.94L8.5 2.5l-.94 2.06-2.06.94zm10 10l.94 2.06.94-2.06 2.06-.94-2.06-.94-.94-2.06-.94 2.06-2.06.94z\"/><path d=\"M17.41 7.96l-1.37-1.37c-.4-.4-.92-.59-1.43-.59-.52 0-1.04.2-1.43.59L10.3 9.45l-7.72 7.72c-.78.78-.78 2.05 0 2.83L4 21.41c.39.39.9.59 1.41.59.51 0 1.02-.2 1.41-.59l7.78-7.78 2.81-2.81c.8-.78.8-2.07 0-2.86zM5.41 20L4 18.59l7.72-7.72 1.47 1.35L5.41 20z\"/>\n",
              "  </svg>\n",
              "      </button>\n",
              "      \n",
              "  <style>\n",
              "    .colab-df-container {\n",
              "      display:flex;\n",
              "      flex-wrap:wrap;\n",
              "      gap: 12px;\n",
              "    }\n",
              "\n",
              "    .colab-df-convert {\n",
              "      background-color: #E8F0FE;\n",
              "      border: none;\n",
              "      border-radius: 50%;\n",
              "      cursor: pointer;\n",
              "      display: none;\n",
              "      fill: #1967D2;\n",
              "      height: 32px;\n",
              "      padding: 0 0 0 0;\n",
              "      width: 32px;\n",
              "    }\n",
              "\n",
              "    .colab-df-convert:hover {\n",
              "      background-color: #E2EBFA;\n",
              "      box-shadow: 0px 1px 2px rgba(60, 64, 67, 0.3), 0px 1px 3px 1px rgba(60, 64, 67, 0.15);\n",
              "      fill: #174EA6;\n",
              "    }\n",
              "\n",
              "    [theme=dark] .colab-df-convert {\n",
              "      background-color: #3B4455;\n",
              "      fill: #D2E3FC;\n",
              "    }\n",
              "\n",
              "    [theme=dark] .colab-df-convert:hover {\n",
              "      background-color: #434B5C;\n",
              "      box-shadow: 0px 1px 3px 1px rgba(0, 0, 0, 0.15);\n",
              "      filter: drop-shadow(0px 1px 2px rgba(0, 0, 0, 0.3));\n",
              "      fill: #FFFFFF;\n",
              "    }\n",
              "  </style>\n",
              "\n",
              "      <script>\n",
              "        const buttonEl =\n",
              "          document.querySelector('#df-878f7ce3-1d03-49b8-a899-7b9fa4907646 button.colab-df-convert');\n",
              "        buttonEl.style.display =\n",
              "          google.colab.kernel.accessAllowed ? 'block' : 'none';\n",
              "\n",
              "        async function convertToInteractive(key) {\n",
              "          const element = document.querySelector('#df-878f7ce3-1d03-49b8-a899-7b9fa4907646');\n",
              "          const dataTable =\n",
              "            await google.colab.kernel.invokeFunction('convertToInteractive',\n",
              "                                                     [key], {});\n",
              "          if (!dataTable) return;\n",
              "\n",
              "          const docLinkHtml = 'Like what you see? Visit the ' +\n",
              "            '<a target=\"_blank\" href=https://colab.research.google.com/notebooks/data_table.ipynb>data table notebook</a>'\n",
              "            + ' to learn more about interactive tables.';\n",
              "          element.innerHTML = '';\n",
              "          dataTable['output_type'] = 'display_data';\n",
              "          await google.colab.output.renderOutput(dataTable, element);\n",
              "          const docLink = document.createElement('div');\n",
              "          docLink.innerHTML = docLinkHtml;\n",
              "          element.appendChild(docLink);\n",
              "        }\n",
              "      </script>\n",
              "    </div>\n",
              "  </div>\n",
              "  "
            ]
          },
          "metadata": {},
          "execution_count": 4
        }
      ]
    },
    {
      "cell_type": "code",
      "source": [
        "df.shape"
      ],
      "metadata": {
        "colab": {
          "base_uri": "https://localhost:8080/"
        },
        "id": "8fh-w-FlyjPd",
        "outputId": "34c70b6a-837b-46e4-c679-4184d441cd2c"
      },
      "execution_count": 5,
      "outputs": [
        {
          "output_type": "execute_result",
          "data": {
            "text/plain": [
              "(301, 9)"
            ]
          },
          "metadata": {},
          "execution_count": 5
        }
      ]
    },
    {
      "cell_type": "markdown",
      "source": [
        "# let's first check na value"
      ],
      "metadata": {
        "id": "-Cv33BCfy3xu"
      }
    },
    {
      "cell_type": "code",
      "source": [
        "df.isna().values.any()"
      ],
      "metadata": {
        "colab": {
          "base_uri": "https://localhost:8080/"
        },
        "id": "S2suOnz4y5hp",
        "outputId": "42c5af3c-a0a2-44f4-cf29-53e49538b764"
      },
      "execution_count": 6,
      "outputs": [
        {
          "output_type": "execute_result",
          "data": {
            "text/plain": [
              "False"
            ]
          },
          "metadata": {},
          "execution_count": 6
        }
      ]
    },
    {
      "cell_type": "code",
      "source": [
        "print(\"Fuel Type: \", df.Fuel_Type.unique())\n",
        "print(\"Seller Type: \", df.Seller_Type.unique())\n",
        "print(\"Transmission: \", df.Transmission.unique())\n",
        "print(\"Owner: \", df.Owner.unique())"
      ],
      "metadata": {
        "colab": {
          "base_uri": "https://localhost:8080/"
        },
        "id": "hkPV7HSBzEkb",
        "outputId": "6bb81487-fb5f-44ca-93f6-43f8c512967c"
      },
      "execution_count": 7,
      "outputs": [
        {
          "output_type": "stream",
          "name": "stdout",
          "text": [
            "Fuel Type:  ['Petrol' 'Diesel' 'CNG']\n",
            "Seller Type:  ['Dealer' 'Individual']\n",
            "Transmission:  ['Manual' 'Automatic']\n",
            "Owner:  [0 1 3]\n"
          ]
        }
      ]
    },
    {
      "cell_type": "code",
      "source": [
        "# year indicates a purchased year of car, it's basically use for calculating how many years old that car\n",
        "\n",
        "# for that we need to subtract year from current year\n",
        "\n",
        "from datetime import datetime\n",
        "\n",
        "df[\"Current_year\"] = datetime.now().year\n",
        "\n",
        "# now let's subtract Year from Current Year\n",
        "df[\"Year\"] = df.Current_year - df.Year\n"
      ],
      "metadata": {
        "id": "bpQUfj4yzG-7"
      },
      "execution_count": 8,
      "outputs": []
    },
    {
      "cell_type": "code",
      "source": [
        "# now let's drop current year we don't need it\n",
        "\n",
        "df.drop(columns=\"Current_year\", axis = 1, inplace = True)"
      ],
      "metadata": {
        "id": "cbA9CJOzzZFL"
      },
      "execution_count": 9,
      "outputs": []
    },
    {
      "cell_type": "code",
      "source": [
        "# let's encode text or categorical data using one hot encoding\n",
        "# let's create  dummy variables for Fuel_Type Seller_Type and Transmission\n",
        "\n",
        "dummy = pd.get_dummies(df[[\"Fuel_Type\", \"Seller_Type\", \"Transmission\"]], drop_first = True)\n",
        "# drop first columns for preventing dummy variable trape\n",
        "# for Fuel_Type CNG will be Removed, for Seller Type Dealer will be removed and fo Transmission Automatic remove\n",
        "df = pd.concat( [df, dummy], axis = 1)\n",
        "# now we don't need that original text data columns so let's drop it\n",
        "df.drop(columns = [\"Fuel_Type\", \"Seller_Type\", \"Transmission\"], inplace = True)"
      ],
      "metadata": {
        "id": "vDMpWa_1zi-E"
      },
      "execution_count": 10,
      "outputs": []
    },
    {
      "cell_type": "code",
      "source": [
        "# let's get a corelation of our data\n",
        "\n",
        "import matplotlib.pyplot as plt\n",
        "import seaborn as sns\n",
        "%matplotlib inline\n",
        "\n",
        "plt.figure(figsize = (10, 6))\n",
        "sns.heatmap(df.corr(), annot = True)\n",
        "plt.show()"
      ],
      "metadata": {
        "colab": {
          "base_uri": "https://localhost:8080/",
          "height": 478
        },
        "id": "a38g7Fsyzs6o",
        "outputId": "f444b26b-18c2-40ef-a73b-9fa0d66da976"
      },
      "execution_count": 11,
      "outputs": [
        {
          "output_type": "display_data",
          "data": {
            "text/plain": [
              "<Figure size 720x432 with 2 Axes>"
            ],
            "image/png": "[encoded data removed]"
          },
          "metadata": {
            "needs_background": "light"
          }
        }
      ]
    },
    {
      "cell_type": "code",
      "source": [
        "# let's encode Car_Name text data using one hot encoding\n",
        "\n",
        "# for this let's convert first Car_Names data into lowercase\n",
        "\n",
        "df.Car_Name = df.Car_Name.str.lower()\n",
        "\n",
        "dummy = pd.get_dummies(df.Car_Name, drop_first = True)\n",
        "# here we dropped first columns which is 800 for prevent dummy variable trap \n",
        "\n",
        "df = pd.concat([df, dummy], axis = 1)\n",
        "# now we don't need Car_Name columns so let's drop it\n",
        "df.drop(\"Car_Name\", axis = 1, inplace = True)"
      ],
      "metadata": {
        "id": "EDH1SS06z3IS"
      },
      "execution_count": 12,
      "outputs": []
    },
    {
      "cell_type": "code",
      "source": [
        "# now let's create a feature matrix X and target vector y\n",
        "\n",
        "X = df.drop(columns=\"Selling_Price\")\n",
        "y = df.Selling_Price"
      ],
      "metadata": {
        "id": "9uNeyRroz8VY"
      },
      "execution_count": 13,
      "outputs": []
    },
    {
      "cell_type": "code",
      "source": [
        "# let's find important feature using ExtraTreesRegressor model \n",
        "\n",
        "from sklearn.ensemble import ExtraTreesRegressor\n",
        "\n",
        "etr = ExtraTreesRegressor()\n",
        "etr.fit(X, y)\n",
        "important_features = etr.feature_importances_"
      ],
      "metadata": {
        "id": "QEWsDpxPz-pn"
      },
      "execution_count": 14,
      "outputs": []
    },
    {
      "cell_type": "code",
      "source": [
        "\n",
        "\n",
        "\n",
        "\n",
        "\n",
        "\n",
        "\n",
        "\n",
        "\n",
        "\n",
        "\n",
        "\n",
        "\n",
        "\n",
        "\n",
        "\n",
        "\n",
        "\n",
        "\n",
        "\n",
        "\n",
        "\n",
        "\n",
        "\n",
        "\n",
        "\n",
        "\n",
        "\n",
        "\n",
        "\n",
        "\n",
        "\n",
        "p# let's get top important features\n",
        "\n",
        "important_features = pd.Series(important_features, index = X.columns).sort_values(ascending = False)\n",
        "# let's plot top 5 important feature\n",
        "\n",
        "plt.figure(figsize = (10, 6))\n",
        "important_features[:5].plot(kind = \"barh\")\n",
        "plt.title(\"Top 5 Important Feature\")\n",
        "\n",
        "plt.show()"
      ],
      "metadata": {
        "colab": {
          "base_uri": "https://localhost:8080/",
          "height": 390
        },
        "id": "GVEPYDxN0IEo",
        "outputId": "c0ddd2b9-9d37-413a-d063-3ec80cb36a29"
      },
      "execution_count": 15,
      "outputs": [
        {
          "output_type": "display_data",
          "data": {
            "text/plain": [
              "<Figure size 720x432 with 1 Axes>"
            ],
            "image/png": "[encoded data removed]"
          },
          "metadata": {
            "needs_background": "light"
          }
        }
      ]
    },
    {
      "cell_type": "markdown",
      "source": [
        "# Splitting dependent and independent columns"
      ],
      "metadata": {
        "id": "ZB-nKrCr1a_Y"
      }
    },
    {
      "cell_type": "code",
      "source": [
        "X = df.iloc[: , : -1]\n",
        "y = df.iloc[ : , -1]"
      ],
      "metadata": {
        "id": "by0Z6qb51cIh"
      },
      "execution_count": 17,
      "outputs": []
    },
    {
      "cell_type": "code",
      "source": [
        "X.shape"
      ],
      "metadata": {
        "colab": {
          "base_uri": "https://localhost:8080/"
        },
        "id": "dAYriQmb1jP_",
        "outputId": "d6bd6691-6871-43b1-c7db-ad15c247c109"
      },
      "execution_count": 18,
      "outputs": [
        {
          "output_type": "execute_result",
          "data": {
            "text/plain": [
              "(301, 105)"
            ]
          },
          "metadata": {},
          "execution_count": 18
        }
      ]
    },
    {
      "cell_type": "code",
      "source": [
        "y.shape"
      ],
      "metadata": {
        "colab": {
          "base_uri": "https://localhost:8080/"
        },
        "id": "xCQ2Ivtb1oEX",
        "outputId": "7c7c91fc-3c5a-4af2-f3e0-e9b580df2c17"
      },
      "execution_count": 19,
      "outputs": [
        {
          "output_type": "execute_result",
          "data": {
            "text/plain": [
              "(301,)"
            ]
          },
          "metadata": {},
          "execution_count": 19
        }
      ]
    },
    {
      "cell_type": "markdown",
      "source": [
        "# Splitting the data into train and test"
      ],
      "metadata": {
        "id": "iwTgXQ2W1s9J"
      }
    },
    {
      "cell_type": "code",
      "source": [
        "# let's divide our data into train and test part\n",
        "from sklearn.model_selection import train_test_split\n",
        "\n",
        "X_train, X_test, y_train, y_test = train_test_split(X, y, test_size = 0.20)"
      ],
      "metadata": {
        "id": "XKuOwN2C0__L"
      },
      "execution_count": 16,
      "outputs": []
    }
  ]
}